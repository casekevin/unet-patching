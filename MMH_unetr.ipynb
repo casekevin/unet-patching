{
 "cells": [
  {
   "cell_type": "code",
   "execution_count": 14,
   "metadata": {},
   "outputs": [
    {
     "name": "stdout",
     "output_type": "stream",
     "text": [
      "^C\n"
     ]
    }
   ],
   "source": [
    "# !python -c \"import monai\" || pip install -q \"monai-weekly[nibabel]\"\n",
    "# !python -c \"import matplotlib\" || pip install -q matplotlib\n",
    "# %matplotlib inline"
   ]
  },
  {
   "cell_type": "code",
   "execution_count": 2,
   "metadata": {},
   "outputs": [
    {
     "name": "stderr",
     "output_type": "stream",
     "text": [
      "c:\\Users\\jnk50\\Anaconda3\\envs\\vit\\lib\\site-packages\\tqdm\\auto.py:22: TqdmWarning: IProgress not found. Please update jupyter and ipywidgets. See https://ipywidgets.readthedocs.io/en/stable/user_install.html\n",
      "  from .autonotebook import tqdm as notebook_tqdm\n",
      "c:\\Users\\jnk50\\Anaconda3\\envs\\vit\\lib\\site-packages\\torchvision\\io\\image.py:13: UserWarning: Failed to load image Python extension: [WinError 127] The specified procedure could not be found\n",
      "  warn(f\"Failed to load image Python extension: {e}\")\n"
     ]
    }
   ],
   "source": [
    "import monai\n",
    "import matplotlib.pyplot as plt\n",
    "from monai.utils import first, set_determinism\n",
    "from monai.transforms import (Activations, Activationsd, AsDiscrete, AsDiscreted, EnsureChannelFirstd, Compose, CropForegroundd, LoadImaged,\n",
    "    Orientationd, RandCropByPosNegLabeld, SaveImaged, ScaleIntensityRanged, Spacingd, Invertd, RandSpatialCropd, RandFlipd, RandScaleIntensityd,\n",
    "    EnsureTyped, Orientationd, Resized, RandShiftIntensityd, RandCropByLabelClassesd,RandRotate90d)\n",
    "from monai.handlers.utils import from_engine\n",
    "\n",
    "from monai.networks.layers import Norm\n",
    "from monai.metrics import DiceMetric\n",
    "from monai.losses import DiceLoss, DiceCELoss, DiceFocalLoss\n",
    "from monai.inferers import sliding_window_inference\n",
    "from monai.handlers.utils import from_engine\n",
    "from monai.data import CacheDataset, DataLoader, Dataset, decollate_batch, ThreadDataLoader, set_track_meta, get_track_meta\n",
    "from monai.config import print_config\n",
    "from monai.apps import download_and_extract\n",
    "from monai.networks.nets import UNETR\n",
    "\n",
    "from tqdm import tqdm\n",
    "import time\n",
    "import scipy.io as sio\n",
    "import matplotlib.pyplot as plt\n",
    "import tempfile, shutil, os, glob, time\n",
    "import numpy as np\n",
    "import nibabel as nib\n",
    "import torch"
   ]
  },
  {
   "cell_type": "code",
   "execution_count": 2,
   "metadata": {},
   "outputs": [
    {
     "data": {
      "text/plain": [
       "True"
      ]
     },
     "execution_count": 2,
     "metadata": {},
     "output_type": "execute_result"
    }
   ],
   "source": [
    "torch.cuda.is_available()"
   ]
  },
  {
   "cell_type": "code",
   "execution_count": 3,
   "metadata": {},
   "outputs": [
    {
     "name": "stdout",
     "output_type": "stream",
     "text": [
      "MONAI version: 1.0.1\n",
      "Numpy version: 1.23.5\n",
      "Pytorch version: 1.13.0\n",
      "MONAI flags: HAS_EXT = False, USE_COMPILED = False, USE_META_DICT = False\n",
      "MONAI rev id: 8271a193229fe4437026185e218d5b06f7c8ce69\n",
      "MONAI __file__: c:\\Users\\jnk50\\Anaconda3\\envs\\vit\\lib\\site-packages\\monai\\__init__.py\n",
      "\n",
      "Optional dependencies:\n",
      "Pytorch Ignite version: 0.4.10\n",
      "Nibabel version: 4.0.2\n",
      "scikit-image version: 0.19.3\n",
      "Pillow version: 9.3.0\n",
      "Tensorboard version: 2.10.0\n",
      "gdown version: 4.5.3\n",
      "TorchVision version: 0.13.1a0\n",
      "tqdm version: 4.64.1\n",
      "lmdb version: 1.2.1\n",
      "psutil version: 5.9.0\n",
      "pandas version: 1.5.2\n",
      "einops version: 0.4.1\n",
      "transformers version: 4.24.0\n",
      "mlflow version: 1.30.0\n",
      "pynrrd version: 0.4.2\n",
      "\n",
      "For details about installing the optional dependencies, please visit:\n",
      "    https://docs.monai.io/en/latest/installation.html#installing-the-recommended-dependencies\n",
      "\n"
     ]
    }
   ],
   "source": [
    "print_config()\n",
    "torch.cuda.empty_cache()"
   ]
  },
  {
   "cell_type": "code",
   "execution_count": 4,
   "metadata": {},
   "outputs": [
    {
     "name": "stdout",
     "output_type": "stream",
     "text": [
      "C:\\Users\\jnk50\\AppData\\Local\\Temp\\tmpme6jze_f\n"
     ]
    }
   ],
   "source": [
    "directory = os.environ.get(\"MONAI_DATA_DIRECTORY\")\n",
    "root_dir = tempfile.mkdtemp() if directory is None else directory\n",
    "\n",
    "# root_dir = r\"C:\\Users\\jnk50\\Desktop\\MMH_Vit\\Binary_Arteries_only\"\n",
    "print(root_dir)"
   ]
  },
  {
   "cell_type": "code",
   "execution_count": 3,
   "metadata": {},
   "outputs": [],
   "source": [
    "# image = sorted([f for f in glob.iglob(r\"C:\\Users\\jnk50\\Desktop\\MMH_Vit\\MMH_NIFTI\\*\\*_img.nii.gz\")])\n",
    "# labels = sorted([f for f in glob.iglob(r\"C:\\Users\\jnk50\\Desktop\\MMH_Vit\\MMH_NIFTI\\*\\*_arteries_only.nii.gz\")])\n",
    "\n",
    "# For Cropped Images and Masks\n",
    "image = sorted([f for f in glob.iglob(r\"C:\\Users\\jnk50\\Desktop\\MMH_Vit\\MMH_NIFTI_crop\\img\\*_crop_tight.nii.gz\")])\n",
    "labels = sorted([f for f in glob.iglob(r\"C:\\Users\\jnk50\\Desktop\\MMH_Vit\\MMH_NIFTI_crop\\label\\*_mask_crop_tight.nii.gz\")])\n",
    "\n",
    "data_dicts = [{\"image\": image_name, \"label\": label_name} for image_name, label_name in zip(image, labels)]"
   ]
  },
  {
   "cell_type": "code",
   "execution_count": 5,
   "metadata": {},
   "outputs": [
    {
     "data": {
      "text/plain": [
       "{'image': 'C:\\\\Users\\\\jnk50\\\\Desktop\\\\MMH_Vit\\\\MMH_NIFTI_crop\\\\img\\\\MMH006_crop_tight.nii.gz',\n",
       " 'label': 'C:\\\\Users\\\\jnk50\\\\Desktop\\\\MMH_Vit\\\\MMH_NIFTI_crop\\\\label\\\\MMH006_mask_crop_tight.nii.gz'}"
      ]
     },
     "execution_count": 5,
     "metadata": {},
     "output_type": "execute_result"
    }
   ],
   "source": [
    "data_dicts[0]"
   ]
  },
  {
   "cell_type": "code",
   "execution_count": 6,
   "metadata": {},
   "outputs": [
    {
     "name": "stdout",
     "output_type": "stream",
     "text": [
      "55 12 16\n"
     ]
    }
   ],
   "source": [
    "test_files, val_files, train_files = data_dicts[0:16], data_dicts[-67:-55], data_dicts[-55:]\n",
    "print(len(train_files), len(val_files), len(test_files))"
   ]
  },
  {
   "cell_type": "code",
   "execution_count": 8,
   "metadata": {},
   "outputs": [],
   "source": [
    "train_transform = Compose(\n",
    "    [\n",
    "        LoadImaged(keys=[\"image\", \"label\"]),\n",
    "        EnsureChannelFirstd(keys=[\"image\", \"label\"]),\n",
    "        ScaleIntensityRanged(\n",
    "            keys=[\"image\"], a_min=-250, a_max=600,\n",
    "            b_min=0.0, b_max=1.0, clip=True,\n",
    "        ),\n",
    "        # Spacingd(\n",
    "        #     keys=[\"image\", \"label\"],\n",
    "        #     pixdim=(0.75, 0.75, 1.5),\n",
    "        #     mode=(\"bilinear\", \"nearest\"),\n",
    "        # ), \n",
    "        # Results in 229 229 270 for non-cropped spacing to 1,1,0.5\n",
    "        # Results in 143 124 160 for cropped spacing to 0.75 0.75 1.5\n",
    "        CropForegroundd(keys=[\"image\", \"label\"], source_key=\"image\"), \n",
    "        RandCropByPosNegLabeld(\n",
    "            keys=[\"image\", \"label\"],\n",
    "            label_key=\"label\",\n",
    "            spatial_size=(128, 128, 128),\n",
    "            pos=1,\n",
    "            neg=1,\n",
    "            num_samples=4,\n",
    "            image_key=\"image\",\n",
    "            image_threshold=0,\n",
    "        ),\n",
    "        \n",
    "        RandFlipd(keys=[\"image\", \"label\"], spatial_axis=[0], prob=0.10),\n",
    "        RandFlipd(keys=[\"image\", \"label\"], spatial_axis=[1], prob=0.10),\n",
    "        RandFlipd(keys=[\"image\", \"label\"], spatial_axis=[2], prob=0.10),\n",
    "        RandShiftIntensityd(keys=[\"image\"], offsets=0.10, prob=0.50),\n",
    "        RandRotate90d(keys=[\"image\", \"label\"], prob=0.10, max_k=3),\n",
    "\n",
    "        EnsureTyped(keys=[\"image\", \"label\"], track_meta=False), # Optmized \n",
    "    ]\n",
    ")\n",
    "\n",
    "val_transform = Compose(\n",
    "    [\n",
    "        LoadImaged(keys=[\"image\", \"label\"]),\n",
    "        EnsureChannelFirstd(keys=[\"image\", \"label\"]),\n",
    "        ScaleIntensityRanged(\n",
    "            keys=[\"image\"], a_min=-250, a_max=600,\n",
    "            b_min=0.0, b_max=1.0, clip=True,\n",
    "        ),\n",
    "        # Spacingd(\n",
    "        #     keys=[\"image\", \"label\"],\n",
    "        #     pixdim=(0.75, 0.75, 1.5),\n",
    "        #     mode=(\"bilinear\", \"nearest\"),\n",
    "        # ), \n",
    "        CropForegroundd(keys=[\"image\", \"label\"], source_key=\"image\"),\n",
    "        EnsureTyped(keys=[\"image\", \"label\"], track_meta=True), # Optmized \n",
    "    ]\n",
    ")"
   ]
  },
  {
   "cell_type": "code",
   "execution_count": 9,
   "metadata": {},
   "outputs": [],
   "source": [
    "# print(type(train_transform(train_files[0])[0]['image']))\n",
    "# print(type(val_transform(val_files[0])['image']))"
   ]
  },
  {
   "cell_type": "code",
   "execution_count": 10,
   "metadata": {},
   "outputs": [
    {
     "name": "stderr",
     "output_type": "stream",
     "text": [
      "Loading dataset: 100%|██████████| 12/12 [00:01<00:00,  8.09it/s]\n",
      "Loading dataset: 100%|██████████| 6/6 [00:00<00:00,  6.45it/s]\n"
     ]
    }
   ],
   "source": [
    "train_ds = CacheDataset(data=train_files, transform=train_transform, cache_num=12, \n",
    "                        cache_rate=1.0, num_workers=8, copy_cache=False)\n",
    "train_loader = ThreadDataLoader(train_ds, batch_size=2, shuffle=True, num_workers=0)\n",
    "\n",
    "val_ds = CacheDataset(data=val_files, transform=val_transform, cache_num=6, \n",
    "                      cache_rate=1.0, num_workers=3, copy_cache=False)\n",
    "val_loader = ThreadDataLoader(val_ds, batch_size=1, num_workers=0)"
   ]
  },
  {
   "cell_type": "code",
   "execution_count": 11,
   "metadata": {},
   "outputs": [
    {
     "name": "stdout",
     "output_type": "stream",
     "text": [
      "cuda\n"
     ]
    }
   ],
   "source": [
    "os.environ[\"CUDA_DEVICE_ORDER\"] = \"PCI_BUS_ID\"\n",
    "device = torch.device(\"cuda\" if torch.cuda.is_available() else \"cpu\")\n",
    "print(device)"
   ]
  },
  {
   "cell_type": "code",
   "execution_count": 12,
   "metadata": {},
   "outputs": [],
   "source": [
    "model = UNETR(\n",
    "    in_channels=1,\n",
    "    out_channels=2,\n",
    "    img_size=(128, 128, 128),\n",
    "    feature_size=16,\n",
    "    hidden_size=768,\n",
    "    mlp_dim=3072,\n",
    "    num_heads=12,\n",
    "    pos_embed=\"perceptron\",\n",
    "    norm_name=\"instance\",\n",
    "    res_block=True,\n",
    "    dropout_rate=0.5,\n",
    ").to(device)"
   ]
  },
  {
   "cell_type": "code",
   "execution_count": 13,
   "metadata": {},
   "outputs": [],
   "source": [
    "# vit_dict = torch.load(r'C:\\Users\\jnk50\\Desktop\\MMH_Vit\\vitautoenc_weights.pt')\n",
    "# vit_weights = vit_dict[\"state_dict\"]\n",
    "# model_dict = model.vit.state_dict()\n",
    "# vit_weights = {k: v for k, v in vit_weights.items() if k in model_dict}\n",
    "# model_dict.update(vit_weights)\n",
    "# model.vit.load_state_dict(model_dict)\n",
    "# del model_dict, vit_weights, vit_dict\n",
    "# print(\"Using pretrained self-supervied TCIA UNETR backbone weights !\")"
   ]
  },
  {
   "cell_type": "code",
   "execution_count": 14,
   "metadata": {},
   "outputs": [],
   "source": [
    "torch.backends.cudnn.benchmark = True\n",
    "loss_function = DiceCELoss(to_onehot_y=True, softmax=True)\n",
    "optimizer = torch.optim.AdamW(model.parameters(), lr=1e-4, weight_decay=1e-5)\n",
    "scaler = torch.cuda.amp.GradScaler()"
   ]
  },
  {
   "cell_type": "code",
   "execution_count": 15,
   "metadata": {},
   "outputs": [],
   "source": [
    "def validation(epoch_iterator_val):\n",
    "    model.eval()\n",
    "    with torch.no_grad():\n",
    "        for step, batch in enumerate(epoch_iterator_val):\n",
    "            val_inputs, val_labels = (batch[\"image\"].cuda(), batch[\"label\"].cuda())\n",
    "            with torch.cuda.amp.autocast():\n",
    "                val_outputs = sliding_window_inference(val_inputs, (128,128,128), 16, model, overlap=0.25)\n",
    "            val_labels_list = decollate_batch(val_labels)\n",
    "            val_labels_convert = [post_label(val_label_tensor) for val_label_tensor in val_labels_list]\n",
    "            val_outputs_list = decollate_batch(val_outputs)\n",
    "            val_output_convert = [post_pred(val_pred_tensor) for val_pred_tensor in val_outputs_list]\n",
    "            dice_metric(y_pred=val_output_convert, y=val_labels_convert)\n",
    "            epoch_iterator_val.set_description(\"Validate (%d / %d Steps)\" % (global_step, 10.0))\n",
    "        mean_dice_val = dice_metric.aggregate().item()\n",
    "        dice_metric.reset()\n",
    "    return mean_dice_val\n",
    "\n",
    "\n",
    "def train(global_step, train_loader, dice_val_best, global_step_best):\n",
    "    model.train()\n",
    "    epoch_loss = 0\n",
    "    step = 0\n",
    "    epoch_iterator = tqdm(train_loader, desc=\"Training (X / X Steps) (loss=X.X)\", dynamic_ncols=True)\n",
    "    for step, batch in enumerate(epoch_iterator):\n",
    "        step += 1\n",
    "        x, y = (batch[\"image\"].cuda(), batch[\"label\"].cuda())\n",
    "        with torch.cuda.amp.autocast():\n",
    "            logit_map = model(x)\n",
    "            loss = loss_function(logit_map, y)\n",
    "        scaler.scale(loss).backward()\n",
    "        epoch_loss += loss.item()\n",
    "        scaler.unscale_(optimizer)\n",
    "        scaler.step(optimizer)\n",
    "        scaler.update()\n",
    "        optimizer.zero_grad()\n",
    "        epoch_iterator.set_description(\n",
    "            \"Training (%d / %d Steps) (loss=%2.5f)\"\n",
    "            % (global_step, max_iterations, loss)\n",
    "        )\n",
    "        if (\n",
    "            global_step % eval_num == 0 and global_step != 0\n",
    "        ) or global_step == max_iterations:\n",
    "            epoch_iterator_val = tqdm(\n",
    "                val_loader, desc=\"Validate (X / X Steps) (dice=X.X)\", dynamic_ncols=True\n",
    "            )\n",
    "            dice_val = validation(epoch_iterator_val)\n",
    "            epoch_loss /= step\n",
    "            epoch_loss_values.append(epoch_loss)\n",
    "            metric_values.append(dice_val)\n",
    "            if dice_val > dice_val_best:\n",
    "                dice_val_best = dice_val\n",
    "                global_step_best = global_step\n",
    "                torch.save(model.state_dict(), os.path.join(root_dir, \"best_metric_model.pth\"))\n",
    "                print(\n",
    "                    \"Model Was Saved ! Current Best Avg. Dice: {} Current Avg. Dice: {}\".format(dice_val_best, dice_val)\n",
    "                )\n",
    "            else:\n",
    "                print(\n",
    "                    \"Model Was Not Saved ! Current Best Avg. Dice: {} Current Avg. Dice: {}\".format(dice_val_best, dice_val)\n",
    "                )\n",
    "        global_step += 1\n",
    "    return global_step, dice_val_best, global_step_best"
   ]
  },
  {
   "cell_type": "code",
   "execution_count": 16,
   "metadata": {},
   "outputs": [
    {
     "name": "stderr",
     "output_type": "stream",
     "text": [
      "Training (27 / 6600 Steps) (loss=0.84917): 100%|██████████| 28/28 [00:36<00:00,  1.29s/it]\n",
      "Training (55 / 6600 Steps) (loss=0.92563): 100%|██████████| 28/28 [00:18<00:00,  1.53it/s]\n",
      "Training (83 / 6600 Steps) (loss=0.73307): 100%|██████████| 28/28 [00:17<00:00,  1.58it/s]\n",
      "Validate (84 / 10 Steps): 100%|██████████| 12/12 [00:13<00:00,  1.10s/it]<00:01,  1.66it/s]\n",
      "Training (110 / 6600 Steps) (loss=0.70194):  96%|█████████▋| 27/28 [00:30<00:04,  4.64s/it]"
     ]
    },
    {
     "name": "stdout",
     "output_type": "stream",
     "text": [
      "Model Was Saved ! Current Best Avg. Dice: 0.669266939163208 Current Avg. Dice: 0.669266939163208\n"
     ]
    },
    {
     "name": "stderr",
     "output_type": "stream",
     "text": [
      "Training (111 / 6600 Steps) (loss=0.95697): 100%|██████████| 28/28 [00:31<00:00,  1.12s/it]\n",
      "Training (139 / 6600 Steps) (loss=1.26174): 100%|██████████| 28/28 [00:17<00:00,  1.57it/s]\n",
      "Training (167 / 6600 Steps) (loss=0.86270): 100%|██████████| 28/28 [00:18<00:00,  1.54it/s]\n",
      "Training (195 / 6600 Steps) (loss=0.88737): 100%|██████████| 28/28 [00:17<00:00,  1.58it/s]\n",
      "Validate (196 / 10 Steps): 100%|██████████| 12/12 [00:04<00:00,  2.46it/s]00:02,  1.67it/s]\n",
      "Training (220 / 6600 Steps) (loss=0.71008):  89%|████████▉ | 25/28 [00:21<00:06,  2.16s/it]"
     ]
    },
    {
     "name": "stdout",
     "output_type": "stream",
     "text": [
      "Model Was Saved ! Current Best Avg. Dice: 0.6830161213874817 Current Avg. Dice: 0.6830161213874817\n"
     ]
    },
    {
     "name": "stderr",
     "output_type": "stream",
     "text": [
      "Training (223 / 6600 Steps) (loss=0.74682): 100%|██████████| 28/28 [00:22<00:00,  1.24it/s]\n",
      "Training (251 / 6600 Steps) (loss=0.68747): 100%|██████████| 28/28 [00:17<00:00,  1.57it/s]\n",
      "Training (279 / 6600 Steps) (loss=0.66009): 100%|██████████| 28/28 [00:17<00:00,  1.56it/s]\n",
      "Training (307 / 6600 Steps) (loss=0.88993): 100%|██████████| 28/28 [00:17<00:00,  1.57it/s]\n",
      "Validate (308 / 10 Steps): 100%|██████████| 12/12 [00:04<00:00,  2.43it/s]00:03,  1.64it/s]\n",
      "Training (330 / 6600 Steps) (loss=0.69026):  82%|████████▏ | 23/28 [00:20<00:10,  2.17s/it]"
     ]
    },
    {
     "name": "stdout",
     "output_type": "stream",
     "text": [
      "Model Was Saved ! Current Best Avg. Dice: 0.7084565162658691 Current Avg. Dice: 0.7084565162658691\n"
     ]
    },
    {
     "name": "stderr",
     "output_type": "stream",
     "text": [
      "Training (335 / 6600 Steps) (loss=0.64622): 100%|██████████| 28/28 [00:22<00:00,  1.23it/s]\n",
      "Training (363 / 6600 Steps) (loss=0.55203): 100%|██████████| 28/28 [00:17<00:00,  1.58it/s]\n",
      "Training (391 / 6600 Steps) (loss=0.63982): 100%|██████████| 28/28 [00:17<00:00,  1.58it/s]\n",
      "Training (419 / 6600 Steps) (loss=0.77583): 100%|██████████| 28/28 [00:18<00:00,  1.50it/s]\n",
      "Validate (420 / 10 Steps): 100%|██████████| 12/12 [00:04<00:00,  2.45it/s]00:04,  1.61it/s]\n",
      "Training (440 / 6600 Steps) (loss=0.58872):  75%|███████▌  | 21/28 [00:19<00:15,  2.18s/it]"
     ]
    },
    {
     "name": "stdout",
     "output_type": "stream",
     "text": [
      "Model Was Saved ! Current Best Avg. Dice: 0.7110200524330139 Current Avg. Dice: 0.7110200524330139\n"
     ]
    },
    {
     "name": "stderr",
     "output_type": "stream",
     "text": [
      "Training (447 / 6600 Steps) (loss=0.72763): 100%|██████████| 28/28 [00:23<00:00,  1.20it/s]\n",
      "Training (475 / 6600 Steps) (loss=0.65570): 100%|██████████| 28/28 [00:18<00:00,  1.50it/s]\n",
      "Training (503 / 6600 Steps) (loss=0.67962): 100%|██████████| 28/28 [00:18<00:00,  1.55it/s]\n",
      "Training (531 / 6600 Steps) (loss=0.91478): 100%|██████████| 28/28 [00:18<00:00,  1.51it/s]\n",
      "Validate (532 / 10 Steps): 100%|██████████| 12/12 [00:04<00:00,  2.43it/s]00:05,  1.68it/s]\n",
      "Training (550 / 6600 Steps) (loss=0.53438):  68%|██████▊   | 19/28 [00:17<00:19,  2.16s/it]"
     ]
    },
    {
     "name": "stdout",
     "output_type": "stream",
     "text": [
      "Model Was Saved ! Current Best Avg. Dice: 0.7604363560676575 Current Avg. Dice: 0.7604363560676575\n"
     ]
    },
    {
     "name": "stderr",
     "output_type": "stream",
     "text": [
      "Training (559 / 6600 Steps) (loss=0.85802): 100%|██████████| 28/28 [00:22<00:00,  1.22it/s]\n",
      "Training (587 / 6600 Steps) (loss=0.66950): 100%|██████████| 28/28 [00:18<00:00,  1.55it/s]\n",
      "Training (615 / 6600 Steps) (loss=0.56541): 100%|██████████| 28/28 [00:18<00:00,  1.52it/s]\n",
      "Training (643 / 6600 Steps) (loss=0.60455): 100%|██████████| 28/28 [00:18<00:00,  1.55it/s]\n",
      "Validate (644 / 10 Steps): 100%|██████████| 12/12 [00:04<00:00,  2.42it/s]00:07,  1.57it/s]\n",
      "Training (660 / 6600 Steps) (loss=0.56221):  61%|██████    | 17/28 [00:16<00:24,  2.22s/it]"
     ]
    },
    {
     "name": "stdout",
     "output_type": "stream",
     "text": [
      "Model Was Saved ! Current Best Avg. Dice: 0.7820773124694824 Current Avg. Dice: 0.7820773124694824\n"
     ]
    },
    {
     "name": "stderr",
     "output_type": "stream",
     "text": [
      "Training (671 / 6600 Steps) (loss=0.46386): 100%|██████████| 28/28 [00:22<00:00,  1.22it/s]\n",
      "Training (699 / 6600 Steps) (loss=0.35028): 100%|██████████| 28/28 [00:18<00:00,  1.54it/s]\n",
      "Training (727 / 6600 Steps) (loss=0.59518): 100%|██████████| 28/28 [00:17<00:00,  1.56it/s]\n",
      "Training (755 / 6600 Steps) (loss=0.51227): 100%|██████████| 28/28 [00:18<00:00,  1.55it/s]\n",
      "Validate (756 / 10 Steps): 100%|██████████| 12/12 [00:04<00:00,  2.43it/s]00:08,  1.64it/s]\n",
      "Training (770 / 6600 Steps) (loss=0.81907):  54%|█████▎    | 15/28 [00:15<00:29,  2.24s/it]"
     ]
    },
    {
     "name": "stdout",
     "output_type": "stream",
     "text": [
      "Model Was Saved ! Current Best Avg. Dice: 0.7868297696113586 Current Avg. Dice: 0.7868297696113586\n"
     ]
    },
    {
     "name": "stderr",
     "output_type": "stream",
     "text": [
      "Training (783 / 6600 Steps) (loss=0.56931): 100%|██████████| 28/28 [00:23<00:00,  1.20it/s]\n",
      "Training (811 / 6600 Steps) (loss=0.50813): 100%|██████████| 28/28 [00:18<00:00,  1.55it/s]\n",
      "Training (839 / 6600 Steps) (loss=0.39456): 100%|██████████| 28/28 [00:18<00:00,  1.52it/s]\n",
      "Training (867 / 6600 Steps) (loss=0.46123): 100%|██████████| 28/28 [00:18<00:00,  1.54it/s]\n",
      "Validate (868 / 10 Steps): 100%|██████████| 12/12 [00:04<00:00,  2.44it/s]00:09,  1.61it/s]\n",
      "Training (880 / 6600 Steps) (loss=0.48134):  46%|████▋     | 13/28 [00:14<00:33,  2.21s/it]"
     ]
    },
    {
     "name": "stdout",
     "output_type": "stream",
     "text": [
      "Model Was Saved ! Current Best Avg. Dice: 0.8199930191040039 Current Avg. Dice: 0.8199930191040039\n"
     ]
    },
    {
     "name": "stderr",
     "output_type": "stream",
     "text": [
      "Training (895 / 6600 Steps) (loss=0.41029): 100%|██████████| 28/28 [00:22<00:00,  1.22it/s]\n",
      "Training (923 / 6600 Steps) (loss=0.35893): 100%|██████████| 28/28 [00:17<00:00,  1.56it/s]\n",
      "Training (951 / 6600 Steps) (loss=0.54912): 100%|██████████| 28/28 [00:18<00:00,  1.54it/s]\n",
      "Training (979 / 6600 Steps) (loss=0.66295): 100%|██████████| 28/28 [00:18<00:00,  1.53it/s]\n",
      "Validate (980 / 10 Steps): 100%|██████████| 12/12 [00:04<00:00,  2.44it/s]00:11,  1.58it/s]\n",
      "Training (990 / 6600 Steps) (loss=0.50183):  39%|███▉      | 11/28 [00:12<00:37,  2.22s/it]"
     ]
    },
    {
     "name": "stdout",
     "output_type": "stream",
     "text": [
      "Model Was Saved ! Current Best Avg. Dice: 0.86932373046875 Current Avg. Dice: 0.86932373046875\n"
     ]
    },
    {
     "name": "stderr",
     "output_type": "stream",
     "text": [
      "Training (1007 / 6600 Steps) (loss=0.49945): 100%|██████████| 28/28 [00:22<00:00,  1.23it/s]\n",
      "Training (1035 / 6600 Steps) (loss=0.56186): 100%|██████████| 28/28 [00:18<00:00,  1.54it/s]\n",
      "Training (1063 / 6600 Steps) (loss=0.27395): 100%|██████████| 28/28 [00:18<00:00,  1.55it/s]\n",
      "Training (1091 / 6600 Steps) (loss=0.55292): 100%|██████████| 28/28 [00:18<00:00,  1.51it/s]\n",
      "Validate (1092 / 10 Steps): 100%|██████████| 12/12 [00:04<00:00,  2.43it/s]0:15,  1.31it/s]\n",
      "Training (1100 / 6600 Steps) (loss=0.47784):  32%|███▏      | 9/28 [00:12<00:43,  2.31s/it]"
     ]
    },
    {
     "name": "stdout",
     "output_type": "stream",
     "text": [
      "Model Was Not Saved ! Current Best Avg. Dice: 0.86932373046875 Current Avg. Dice: 0.850273609161377\n"
     ]
    },
    {
     "name": "stderr",
     "output_type": "stream",
     "text": [
      "Training (1119 / 6600 Steps) (loss=0.54944): 100%|██████████| 28/28 [00:22<00:00,  1.22it/s]\n",
      "Training (1147 / 6600 Steps) (loss=0.44937): 100%|██████████| 28/28 [00:18<00:00,  1.52it/s]\n",
      "Training (1175 / 6600 Steps) (loss=0.44013): 100%|██████████| 28/28 [00:18<00:00,  1.53it/s]\n",
      "Training (1203 / 6600 Steps) (loss=0.36688): 100%|██████████| 28/28 [00:17<00:00,  1.57it/s]\n",
      "Validate (1204 / 10 Steps): 100%|██████████| 12/12 [00:04<00:00,  2.44it/s]0:14,  1.57it/s]\n",
      "Training (1210 / 6600 Steps) (loss=0.39923):  25%|██▌       | 7/28 [00:09<00:48,  2.33s/it]"
     ]
    },
    {
     "name": "stdout",
     "output_type": "stream",
     "text": [
      "Model Was Saved ! Current Best Avg. Dice: 0.881291389465332 Current Avg. Dice: 0.881291389465332\n"
     ]
    },
    {
     "name": "stderr",
     "output_type": "stream",
     "text": [
      "Training (1231 / 6600 Steps) (loss=0.71278): 100%|██████████| 28/28 [00:22<00:00,  1.23it/s]\n",
      "Training (1259 / 6600 Steps) (loss=0.51664): 100%|██████████| 28/28 [00:18<00:00,  1.52it/s]\n",
      "Training (1287 / 6600 Steps) (loss=0.39722): 100%|██████████| 28/28 [00:17<00:00,  1.56it/s]\n",
      "Training (1315 / 6600 Steps) (loss=0.58171): 100%|██████████| 28/28 [00:18<00:00,  1.48it/s]\n",
      "Validate (1316 / 10 Steps): 100%|██████████| 12/12 [00:04<00:00,  2.44it/s]0:19,  1.26it/s]\n",
      "Training (1320 / 6600 Steps) (loss=0.56125):  18%|█▊        | 5/28 [00:08<00:57,  2.49s/it]"
     ]
    },
    {
     "name": "stdout",
     "output_type": "stream",
     "text": [
      "Model Was Not Saved ! Current Best Avg. Dice: 0.881291389465332 Current Avg. Dice: 0.8641365170478821\n"
     ]
    },
    {
     "name": "stderr",
     "output_type": "stream",
     "text": [
      "Training (1343 / 6600 Steps) (loss=0.41274): 100%|██████████| 28/28 [00:22<00:00,  1.24it/s]\n",
      "Training (1371 / 6600 Steps) (loss=0.31103): 100%|██████████| 28/28 [00:18<00:00,  1.51it/s]\n",
      "Training (1399 / 6600 Steps) (loss=0.39305): 100%|██████████| 28/28 [00:18<00:00,  1.51it/s]\n",
      "Training (1427 / 6600 Steps) (loss=0.33027): 100%|██████████| 28/28 [00:18<00:00,  1.50it/s]\n",
      "Validate (1428 / 10 Steps): 100%|██████████| 12/12 [00:04<00:00,  2.44it/s]0:22,  1.14it/s]\n",
      "Training (1430 / 6600 Steps) (loss=0.31918):  11%|█         | 3/28 [00:07<01:18,  3.12s/it]"
     ]
    },
    {
     "name": "stdout",
     "output_type": "stream",
     "text": [
      "Model Was Saved ! Current Best Avg. Dice: 0.8971222043037415 Current Avg. Dice: 0.8971222043037415\n"
     ]
    },
    {
     "name": "stderr",
     "output_type": "stream",
     "text": [
      "Training (1455 / 6600 Steps) (loss=0.53423): 100%|██████████| 28/28 [00:22<00:00,  1.23it/s]\n",
      "Training (1483 / 6600 Steps) (loss=0.31167): 100%|██████████| 28/28 [00:18<00:00,  1.53it/s]\n",
      "Training (1511 / 6600 Steps) (loss=0.50910): 100%|██████████| 28/28 [00:17<00:00,  1.56it/s]\n",
      "Training (1539 / 6600 Steps) (loss=0.41153): 100%|██████████| 28/28 [00:18<00:00,  1.51it/s]\n",
      "Validate (1540 / 10 Steps): 100%|██████████| 12/12 [00:04<00:00,  2.46it/s], ?it/s]\n",
      "Training (1540 / 6600 Steps) (loss=0.37497):   4%|▎         | 1/28 [00:05<02:39,  5.89s/it]"
     ]
    },
    {
     "name": "stdout",
     "output_type": "stream",
     "text": [
      "Model Was Not Saved ! Current Best Avg. Dice: 0.8971222043037415 Current Avg. Dice: 0.8952059149742126\n"
     ]
    },
    {
     "name": "stderr",
     "output_type": "stream",
     "text": [
      "Training (1567 / 6600 Steps) (loss=0.26603): 100%|██████████| 28/28 [00:22<00:00,  1.25it/s]\n",
      "Training (1595 / 6600 Steps) (loss=0.42728): 100%|██████████| 28/28 [00:18<00:00,  1.54it/s]\n",
      "Training (1623 / 6600 Steps) (loss=0.19983): 100%|██████████| 28/28 [00:18<00:00,  1.53it/s]\n",
      "Validate (1624 / 10 Steps): 100%|██████████| 12/12 [00:04<00:00,  2.46it/s]00:01,  1.71it/s]\n",
      "Training (1650 / 6600 Steps) (loss=0.43709):  96%|█████████▋| 27/28 [00:23<00:02,  2.04s/it]"
     ]
    },
    {
     "name": "stdout",
     "output_type": "stream",
     "text": [
      "Model Was Not Saved ! Current Best Avg. Dice: 0.8971222043037415 Current Avg. Dice: 0.8906590342521667\n"
     ]
    },
    {
     "name": "stderr",
     "output_type": "stream",
     "text": [
      "Training (1651 / 6600 Steps) (loss=0.26728): 100%|██████████| 28/28 [00:23<00:00,  1.17it/s]\n",
      "Training (1679 / 6600 Steps) (loss=0.45339): 100%|██████████| 28/28 [00:18<00:00,  1.55it/s]\n",
      "Training (1707 / 6600 Steps) (loss=0.36472): 100%|██████████| 28/28 [00:18<00:00,  1.55it/s]\n",
      "Training (1735 / 6600 Steps) (loss=0.48905): 100%|██████████| 28/28 [00:18<00:00,  1.54it/s]\n",
      "Validate (1736 / 10 Steps): 100%|██████████| 12/12 [00:04<00:00,  2.46it/s]00:02,  1.67it/s]\n",
      "Training (1760 / 6600 Steps) (loss=0.52539):  89%|████████▉ | 25/28 [00:21<00:06,  2.20s/it]"
     ]
    },
    {
     "name": "stdout",
     "output_type": "stream",
     "text": [
      "Model Was Saved ! Current Best Avg. Dice: 0.8996757864952087 Current Avg. Dice: 0.8996757864952087\n"
     ]
    },
    {
     "name": "stderr",
     "output_type": "stream",
     "text": [
      "Training (1763 / 6600 Steps) (loss=0.59382): 100%|██████████| 28/28 [00:22<00:00,  1.23it/s]\n",
      "Training (1791 / 6600 Steps) (loss=0.26389): 100%|██████████| 28/28 [00:18<00:00,  1.54it/s]\n",
      "Training (1819 / 6600 Steps) (loss=0.28877): 100%|██████████| 28/28 [00:18<00:00,  1.53it/s]\n",
      "Training (1847 / 6600 Steps) (loss=0.46961): 100%|██████████| 28/28 [00:18<00:00,  1.53it/s]\n",
      "Validate (1848 / 10 Steps): 100%|██████████| 12/12 [00:04<00:00,  2.45it/s]00:03,  1.53it/s]\n",
      "Training (1870 / 6600 Steps) (loss=0.25209):  82%|████████▏ | 23/28 [00:20<00:10,  2.20s/it]"
     ]
    },
    {
     "name": "stdout",
     "output_type": "stream",
     "text": [
      "Model Was Saved ! Current Best Avg. Dice: 0.9015653729438782 Current Avg. Dice: 0.9015653729438782\n"
     ]
    },
    {
     "name": "stderr",
     "output_type": "stream",
     "text": [
      "Training (1875 / 6600 Steps) (loss=0.39255): 100%|██████████| 28/28 [00:23<00:00,  1.21it/s]\n",
      "Training (1903 / 6600 Steps) (loss=0.41077): 100%|██████████| 28/28 [00:18<00:00,  1.54it/s]\n",
      "Training (1931 / 6600 Steps) (loss=0.29251): 100%|██████████| 28/28 [00:18<00:00,  1.50it/s]\n",
      "Training (1959 / 6600 Steps) (loss=0.35304): 100%|██████████| 28/28 [00:18<00:00,  1.54it/s]\n",
      "Validate (1960 / 10 Steps): 100%|██████████| 12/12 [00:04<00:00,  2.46it/s]00:04,  1.60it/s]\n",
      "Training (1980 / 6600 Steps) (loss=0.22629):  75%|███████▌  | 21/28 [00:19<00:15,  2.21s/it]"
     ]
    },
    {
     "name": "stdout",
     "output_type": "stream",
     "text": [
      "Model Was Saved ! Current Best Avg. Dice: 0.915719747543335 Current Avg. Dice: 0.915719747543335\n"
     ]
    },
    {
     "name": "stderr",
     "output_type": "stream",
     "text": [
      "Training (1987 / 6600 Steps) (loss=0.39058): 100%|██████████| 28/28 [00:23<00:00,  1.20it/s]\n",
      "Training (2015 / 6600 Steps) (loss=0.22957): 100%|██████████| 28/28 [00:17<00:00,  1.56it/s]\n",
      "Training (2043 / 6600 Steps) (loss=0.29957): 100%|██████████| 28/28 [00:18<00:00,  1.51it/s]\n",
      "Training (2071 / 6600 Steps) (loss=0.32546): 100%|██████████| 28/28 [00:17<00:00,  1.56it/s]\n",
      "Validate (2072 / 10 Steps): 100%|██████████| 12/12 [00:04<00:00,  2.43it/s]00:06,  1.63it/s]\n",
      "Training (2090 / 6600 Steps) (loss=0.38355):  68%|██████▊   | 19/28 [00:18<00:18,  2.09s/it]"
     ]
    },
    {
     "name": "stdout",
     "output_type": "stream",
     "text": [
      "Model Was Not Saved ! Current Best Avg. Dice: 0.915719747543335 Current Avg. Dice: 0.9142696857452393\n"
     ]
    },
    {
     "name": "stderr",
     "output_type": "stream",
     "text": [
      "Training (2099 / 6600 Steps) (loss=0.72365): 100%|██████████| 28/28 [00:23<00:00,  1.21it/s]\n",
      "Training (2127 / 6600 Steps) (loss=0.17724): 100%|██████████| 28/28 [00:18<00:00,  1.51it/s]\n",
      "Training (2155 / 6600 Steps) (loss=0.48319): 100%|██████████| 28/28 [00:18<00:00,  1.51it/s]\n",
      "Training (2183 / 6600 Steps) (loss=0.43037): 100%|██████████| 28/28 [00:18<00:00,  1.51it/s]\n",
      "Validate (2184 / 10 Steps): 100%|██████████| 12/12 [00:04<00:00,  2.43it/s]00:07,  1.60it/s]\n",
      "Training (2200 / 6600 Steps) (loss=0.48244):  61%|██████    | 17/28 [00:16<00:23,  2.10s/it]"
     ]
    },
    {
     "name": "stdout",
     "output_type": "stream",
     "text": [
      "Model Was Not Saved ! Current Best Avg. Dice: 0.915719747543335 Current Avg. Dice: 0.9002131819725037\n"
     ]
    },
    {
     "name": "stderr",
     "output_type": "stream",
     "text": [
      "Training (2211 / 6600 Steps) (loss=0.40728): 100%|██████████| 28/28 [00:22<00:00,  1.22it/s]\n",
      "Training (2239 / 6600 Steps) (loss=0.29454): 100%|██████████| 28/28 [00:18<00:00,  1.53it/s]\n",
      "Training (2267 / 6600 Steps) (loss=0.67414): 100%|██████████| 28/28 [00:18<00:00,  1.50it/s]\n",
      "Training (2295 / 6600 Steps) (loss=0.46616): 100%|██████████| 28/28 [00:18<00:00,  1.54it/s]\n",
      "Validate (2296 / 10 Steps): 100%|██████████| 12/12 [00:04<00:00,  2.43it/s]00:08,  1.65it/s]\n",
      "Training (2310 / 6600 Steps) (loss=0.45110):  54%|█████▎    | 15/28 [00:15<00:28,  2.20s/it]"
     ]
    },
    {
     "name": "stdout",
     "output_type": "stream",
     "text": [
      "Model Was Saved ! Current Best Avg. Dice: 0.9175364971160889 Current Avg. Dice: 0.9175364971160889\n"
     ]
    },
    {
     "name": "stderr",
     "output_type": "stream",
     "text": [
      "Training (2323 / 6600 Steps) (loss=0.41877): 100%|██████████| 28/28 [00:22<00:00,  1.25it/s]\n",
      "Training (2351 / 6600 Steps) (loss=0.25455): 100%|██████████| 28/28 [00:18<00:00,  1.54it/s]\n",
      "Training (2379 / 6600 Steps) (loss=0.26016): 100%|██████████| 28/28 [00:18<00:00,  1.53it/s]\n",
      "Training (2407 / 6600 Steps) (loss=0.44828): 100%|██████████| 28/28 [00:18<00:00,  1.53it/s]\n",
      "Validate (2408 / 10 Steps): 100%|██████████| 12/12 [00:04<00:00,  2.42it/s]00:11,  1.45it/s]\n",
      "Training (2420 / 6600 Steps) (loss=0.25140):  46%|████▋     | 13/28 [00:14<00:32,  2.16s/it]"
     ]
    },
    {
     "name": "stdout",
     "output_type": "stream",
     "text": [
      "Model Was Not Saved ! Current Best Avg. Dice: 0.9175364971160889 Current Avg. Dice: 0.9153659343719482\n"
     ]
    },
    {
     "name": "stderr",
     "output_type": "stream",
     "text": [
      "Training (2435 / 6600 Steps) (loss=0.32694): 100%|██████████| 28/28 [00:22<00:00,  1.22it/s]\n",
      "Training (2463 / 6600 Steps) (loss=0.38373): 100%|██████████| 28/28 [00:18<00:00,  1.53it/s]\n",
      "Training (2491 / 6600 Steps) (loss=0.52187): 100%|██████████| 28/28 [00:18<00:00,  1.55it/s]\n",
      "Training (2519 / 6600 Steps) (loss=0.34780): 100%|██████████| 28/28 [00:17<00:00,  1.56it/s]\n",
      "Validate (2520 / 10 Steps): 100%|██████████| 12/12 [00:04<00:00,  2.44it/s]00:11,  1.62it/s]\n",
      "Training (2530 / 6600 Steps) (loss=0.20877):  39%|███▉      | 11/28 [00:12<00:37,  2.21s/it]"
     ]
    },
    {
     "name": "stdout",
     "output_type": "stream",
     "text": [
      "Model Was Saved ! Current Best Avg. Dice: 0.9217283725738525 Current Avg. Dice: 0.9217283725738525\n"
     ]
    },
    {
     "name": "stderr",
     "output_type": "stream",
     "text": [
      "Training (2547 / 6600 Steps) (loss=0.19920): 100%|██████████| 28/28 [00:23<00:00,  1.20it/s]\n",
      "Training (2575 / 6600 Steps) (loss=0.30353): 100%|██████████| 28/28 [00:18<00:00,  1.54it/s]\n",
      "Training (2603 / 6600 Steps) (loss=0.63096): 100%|██████████| 28/28 [00:18<00:00,  1.52it/s]\n",
      "Training (2631 / 6600 Steps) (loss=0.18255): 100%|██████████| 28/28 [00:18<00:00,  1.53it/s]\n",
      "Validate (2632 / 10 Steps): 100%|██████████| 12/12 [00:04<00:00,  2.46it/s]0:13,  1.49it/s]\n",
      "Training (2640 / 6600 Steps) (loss=0.30897):  32%|███▏      | 9/28 [00:11<00:41,  2.17s/it]"
     ]
    },
    {
     "name": "stdout",
     "output_type": "stream",
     "text": [
      "Model Was Not Saved ! Current Best Avg. Dice: 0.9217283725738525 Current Avg. Dice: 0.9205246567726135\n"
     ]
    },
    {
     "name": "stderr",
     "output_type": "stream",
     "text": [
      "Training (2659 / 6600 Steps) (loss=0.33583): 100%|██████████| 28/28 [00:22<00:00,  1.22it/s]\n",
      "Training (2687 / 6600 Steps) (loss=0.46669): 100%|██████████| 28/28 [00:18<00:00,  1.52it/s]\n",
      "Training (2715 / 6600 Steps) (loss=0.38572): 100%|██████████| 28/28 [00:18<00:00,  1.50it/s]\n",
      "Training (2743 / 6600 Steps) (loss=0.36226): 100%|██████████| 28/28 [00:18<00:00,  1.53it/s]\n",
      "Validate (2744 / 10 Steps): 100%|██████████| 12/12 [00:04<00:00,  2.47it/s]0:14,  1.50it/s]\n",
      "Training (2750 / 6600 Steps) (loss=0.28372):  25%|██▌       | 7/28 [00:10<00:50,  2.39s/it]"
     ]
    },
    {
     "name": "stdout",
     "output_type": "stream",
     "text": [
      "Model Was Saved ! Current Best Avg. Dice: 0.9224990010261536 Current Avg. Dice: 0.9224990010261536\n"
     ]
    },
    {
     "name": "stderr",
     "output_type": "stream",
     "text": [
      "Training (2771 / 6600 Steps) (loss=0.18294): 100%|██████████| 28/28 [00:22<00:00,  1.23it/s]\n",
      "Training (2799 / 6600 Steps) (loss=0.69596): 100%|██████████| 28/28 [00:17<00:00,  1.56it/s]\n",
      "Training (2827 / 6600 Steps) (loss=0.43579): 100%|██████████| 28/28 [00:18<00:00,  1.52it/s]\n",
      "Training (2855 / 6600 Steps) (loss=0.34301): 100%|██████████| 28/28 [00:17<00:00,  1.57it/s]\n",
      "Validate (2856 / 10 Steps): 100%|██████████| 12/12 [00:04<00:00,  2.47it/s]0:17,  1.40it/s]\n",
      "Training (2860 / 6600 Steps) (loss=0.29733):  18%|█▊        | 5/28 [00:09<00:58,  2.53s/it]"
     ]
    },
    {
     "name": "stdout",
     "output_type": "stream",
     "text": [
      "Model Was Saved ! Current Best Avg. Dice: 0.9229283928871155 Current Avg. Dice: 0.9229283928871155\n"
     ]
    },
    {
     "name": "stderr",
     "output_type": "stream",
     "text": [
      "Training (2883 / 6600 Steps) (loss=0.28930): 100%|██████████| 28/28 [00:23<00:00,  1.21it/s]\n",
      "Training (2911 / 6600 Steps) (loss=0.34611): 100%|██████████| 28/28 [00:18<00:00,  1.52it/s]\n",
      "Training (2939 / 6600 Steps) (loss=0.35478): 100%|██████████| 28/28 [00:18<00:00,  1.53it/s]\n",
      "Training (2967 / 6600 Steps) (loss=0.47203): 100%|██████████| 28/28 [00:17<00:00,  1.57it/s]\n",
      "Validate (2968 / 10 Steps): 100%|██████████| 12/12 [00:04<00:00,  2.46it/s]0:20,  1.27it/s]\n",
      "Training (2970 / 6600 Steps) (loss=0.25608):  11%|█         | 3/28 [00:07<01:16,  3.06s/it]"
     ]
    },
    {
     "name": "stdout",
     "output_type": "stream",
     "text": [
      "Model Was Saved ! Current Best Avg. Dice: 0.9229862689971924 Current Avg. Dice: 0.9229862689971924\n"
     ]
    },
    {
     "name": "stderr",
     "output_type": "stream",
     "text": [
      "Training (2995 / 6600 Steps) (loss=0.13097): 100%|██████████| 28/28 [00:23<00:00,  1.19it/s]\n",
      "Training (3023 / 6600 Steps) (loss=0.27729): 100%|██████████| 28/28 [00:18<00:00,  1.53it/s]\n",
      "Training (3051 / 6600 Steps) (loss=0.33824): 100%|██████████| 28/28 [00:18<00:00,  1.55it/s]\n",
      "Training (3079 / 6600 Steps) (loss=0.21838): 100%|██████████| 28/28 [00:18<00:00,  1.53it/s]\n",
      "Validate (3080 / 10 Steps): 100%|██████████| 12/12 [00:04<00:00,  2.46it/s], ?it/s]\n",
      "Training (3080 / 6600 Steps) (loss=0.45299):   4%|▎         | 1/28 [00:06<02:49,  6.28s/it]"
     ]
    },
    {
     "name": "stdout",
     "output_type": "stream",
     "text": [
      "Model Was Not Saved ! Current Best Avg. Dice: 0.9229862689971924 Current Avg. Dice: 0.9172499775886536\n"
     ]
    },
    {
     "name": "stderr",
     "output_type": "stream",
     "text": [
      "Training (3107 / 6600 Steps) (loss=0.18616): 100%|██████████| 28/28 [00:22<00:00,  1.26it/s]\n",
      "Training (3135 / 6600 Steps) (loss=0.78239): 100%|██████████| 28/28 [00:18<00:00,  1.53it/s]\n",
      "Training (3163 / 6600 Steps) (loss=0.40314): 100%|██████████| 28/28 [00:18<00:00,  1.52it/s]\n",
      "Validate (3164 / 10 Steps): 100%|██████████| 12/12 [00:04<00:00,  2.44it/s]00:01,  1.70it/s]\n",
      "Training (3190 / 6600 Steps) (loss=0.19409):  96%|█████████▋| 27/28 [00:22<00:02,  2.22s/it]"
     ]
    },
    {
     "name": "stdout",
     "output_type": "stream",
     "text": [
      "Model Was Saved ! Current Best Avg. Dice: 0.9237775802612305 Current Avg. Dice: 0.9237775802612305\n"
     ]
    },
    {
     "name": "stderr",
     "output_type": "stream",
     "text": [
      "Training (3191 / 6600 Steps) (loss=0.21203): 100%|██████████| 28/28 [00:23<00:00,  1.21it/s]\n",
      "Training (3219 / 6600 Steps) (loss=0.27469): 100%|██████████| 28/28 [00:18<00:00,  1.54it/s]\n",
      "Training (3247 / 6600 Steps) (loss=0.29539): 100%|██████████| 28/28 [00:18<00:00,  1.55it/s]\n",
      "Training (3275 / 6600 Steps) (loss=0.32276): 100%|██████████| 28/28 [00:18<00:00,  1.50it/s]\n",
      "Validate (3276 / 10 Steps): 100%|██████████| 12/12 [00:04<00:00,  2.41it/s]00:02,  1.69it/s]\n",
      "Training (3300 / 6600 Steps) (loss=0.42523):  89%|████████▉ | 25/28 [00:21<00:06,  2.17s/it]"
     ]
    },
    {
     "name": "stdout",
     "output_type": "stream",
     "text": [
      "Model Was Saved ! Current Best Avg. Dice: 0.9255698323249817 Current Avg. Dice: 0.9255698323249817\n"
     ]
    },
    {
     "name": "stderr",
     "output_type": "stream",
     "text": [
      "Training (3303 / 6600 Steps) (loss=0.20066): 100%|██████████| 28/28 [00:23<00:00,  1.20it/s]\n",
      "Training (3331 / 6600 Steps) (loss=0.39253): 100%|██████████| 28/28 [00:18<00:00,  1.53it/s]\n",
      "Training (3359 / 6600 Steps) (loss=0.30358): 100%|██████████| 28/28 [00:18<00:00,  1.52it/s]\n",
      "Training (3387 / 6600 Steps) (loss=0.23286): 100%|██████████| 28/28 [00:19<00:00,  1.47it/s]\n",
      "Validate (3388 / 10 Steps): 100%|██████████| 12/12 [00:04<00:00,  2.43it/s]00:04,  1.42it/s]\n",
      "Training (3410 / 6600 Steps) (loss=0.15641):  82%|████████▏ | 23/28 [00:21<00:11,  2.24s/it]"
     ]
    },
    {
     "name": "stdout",
     "output_type": "stream",
     "text": [
      "Model Was Saved ! Current Best Avg. Dice: 0.9286675453186035 Current Avg. Dice: 0.9286675453186035\n"
     ]
    },
    {
     "name": "stderr",
     "output_type": "stream",
     "text": [
      "Training (3415 / 6600 Steps) (loss=0.25920): 100%|██████████| 28/28 [00:23<00:00,  1.18it/s]\n",
      "Training (3443 / 6600 Steps) (loss=0.22715): 100%|██████████| 28/28 [00:18<00:00,  1.50it/s]\n",
      "Training (3471 / 6600 Steps) (loss=0.19383): 100%|██████████| 28/28 [00:18<00:00,  1.54it/s]\n",
      "Training (3499 / 6600 Steps) (loss=0.23035): 100%|██████████| 28/28 [00:18<00:00,  1.49it/s]\n",
      "Validate (3500 / 10 Steps): 100%|██████████| 12/12 [00:04<00:00,  2.43it/s]00:04,  1.69it/s]\n",
      "Training (3520 / 6600 Steps) (loss=0.20076):  75%|███████▌  | 21/28 [00:18<00:14,  2.07s/it]"
     ]
    },
    {
     "name": "stdout",
     "output_type": "stream",
     "text": [
      "Model Was Not Saved ! Current Best Avg. Dice: 0.9286675453186035 Current Avg. Dice: 0.9283716082572937\n"
     ]
    },
    {
     "name": "stderr",
     "output_type": "stream",
     "text": [
      "Training (3527 / 6600 Steps) (loss=0.30857): 100%|██████████| 28/28 [00:22<00:00,  1.23it/s]\n",
      "Training (3555 / 6600 Steps) (loss=0.49887): 100%|██████████| 28/28 [00:17<00:00,  1.57it/s]\n",
      "Training (3583 / 6600 Steps) (loss=0.25585): 100%|██████████| 28/28 [00:17<00:00,  1.56it/s]\n",
      "Training (3611 / 6600 Steps) (loss=0.13780): 100%|██████████| 28/28 [00:18<00:00,  1.51it/s]\n",
      "Validate (3612 / 10 Steps): 100%|██████████| 12/12 [00:04<00:00,  2.44it/s]00:05,  1.67it/s]\n",
      "Training (3630 / 6600 Steps) (loss=0.35260):  68%|██████▊   | 19/28 [00:17<00:19,  2.13s/it]"
     ]
    },
    {
     "name": "stdout",
     "output_type": "stream",
     "text": [
      "Model Was Not Saved ! Current Best Avg. Dice: 0.9286675453186035 Current Avg. Dice: 0.926701545715332\n"
     ]
    },
    {
     "name": "stderr",
     "output_type": "stream",
     "text": [
      "Training (3639 / 6600 Steps) (loss=0.20598): 100%|██████████| 28/28 [00:22<00:00,  1.23it/s]\n",
      "Training (3667 / 6600 Steps) (loss=0.29997): 100%|██████████| 28/28 [00:17<00:00,  1.57it/s]\n",
      "Training (3695 / 6600 Steps) (loss=0.13417): 100%|██████████| 28/28 [00:18<00:00,  1.52it/s]\n",
      "Training (3723 / 6600 Steps) (loss=0.33210): 100%|██████████| 28/28 [00:18<00:00,  1.52it/s]\n",
      "Validate (3724 / 10 Steps): 100%|██████████| 12/12 [00:04<00:00,  2.44it/s]00:08,  1.43it/s]\n",
      "Training (3740 / 6600 Steps) (loss=0.25740):  61%|██████    | 17/28 [00:16<00:23,  2.15s/it]"
     ]
    },
    {
     "name": "stdout",
     "output_type": "stream",
     "text": [
      "Model Was Not Saved ! Current Best Avg. Dice: 0.9286675453186035 Current Avg. Dice: 0.9273474812507629\n"
     ]
    },
    {
     "name": "stderr",
     "output_type": "stream",
     "text": [
      "Training (3751 / 6600 Steps) (loss=0.24536): 100%|██████████| 28/28 [00:23<00:00,  1.21it/s]\n",
      "Training (3779 / 6600 Steps) (loss=0.23205): 100%|██████████| 28/28 [00:18<00:00,  1.52it/s]\n",
      "Training (3807 / 6600 Steps) (loss=0.30842): 100%|██████████| 28/28 [00:17<00:00,  1.56it/s]\n",
      "Training (3835 / 6600 Steps) (loss=0.12478): 100%|██████████| 28/28 [00:18<00:00,  1.50it/s]\n",
      "Validate (3836 / 10 Steps): 100%|██████████| 12/12 [00:04<00:00,  2.43it/s]00:08,  1.70it/s]\n",
      "Training (3850 / 6600 Steps) (loss=0.26570):  54%|█████▎    | 15/28 [00:15<00:29,  2.26s/it]"
     ]
    },
    {
     "name": "stdout",
     "output_type": "stream",
     "text": [
      "Model Was Saved ! Current Best Avg. Dice: 0.9288218021392822 Current Avg. Dice: 0.9288218021392822\n"
     ]
    },
    {
     "name": "stderr",
     "output_type": "stream",
     "text": [
      "Training (3863 / 6600 Steps) (loss=0.30730): 100%|██████████| 28/28 [00:22<00:00,  1.23it/s]\n",
      "Training (3891 / 6600 Steps) (loss=0.17872): 100%|██████████| 28/28 [00:18<00:00,  1.55it/s]\n",
      "Training (3919 / 6600 Steps) (loss=0.23067): 100%|██████████| 28/28 [00:17<00:00,  1.57it/s]\n",
      "Training (3947 / 6600 Steps) (loss=0.31594): 100%|██████████| 28/28 [00:18<00:00,  1.49it/s]\n",
      "Validate (3948 / 10 Steps): 100%|██████████| 12/12 [00:04<00:00,  2.41it/s]00:10,  1.59it/s]\n",
      "Training (3960 / 6600 Steps) (loss=0.22789):  46%|████▋     | 13/28 [00:14<00:33,  2.22s/it]"
     ]
    },
    {
     "name": "stdout",
     "output_type": "stream",
     "text": [
      "Model Was Saved ! Current Best Avg. Dice: 0.9315228462219238 Current Avg. Dice: 0.9315228462219238\n"
     ]
    },
    {
     "name": "stderr",
     "output_type": "stream",
     "text": [
      "Training (3975 / 6600 Steps) (loss=0.14032): 100%|██████████| 28/28 [00:23<00:00,  1.20it/s]\n",
      "Training (4003 / 6600 Steps) (loss=0.35205): 100%|██████████| 28/28 [00:18<00:00,  1.54it/s]\n",
      "Training (4031 / 6600 Steps) (loss=0.23684): 100%|██████████| 28/28 [00:18<00:00,  1.50it/s]\n",
      "Training (4059 / 6600 Steps) (loss=0.13700): 100%|██████████| 28/28 [00:18<00:00,  1.48it/s]\n",
      "Validate (4060 / 10 Steps): 100%|██████████| 12/12 [00:04<00:00,  2.43it/s]00:11,  1.62it/s]\n",
      "Training (4070 / 6600 Steps) (loss=0.36969):  39%|███▉      | 11/28 [00:12<00:36,  2.12s/it]"
     ]
    },
    {
     "name": "stdout",
     "output_type": "stream",
     "text": [
      "Model Was Not Saved ! Current Best Avg. Dice: 0.9315228462219238 Current Avg. Dice: 0.9282826781272888\n"
     ]
    },
    {
     "name": "stderr",
     "output_type": "stream",
     "text": [
      "Training (4087 / 6600 Steps) (loss=0.36388): 100%|██████████| 28/28 [00:22<00:00,  1.23it/s]\n",
      "Training (4115 / 6600 Steps) (loss=0.17864): 100%|██████████| 28/28 [00:18<00:00,  1.51it/s]\n",
      "Training (4143 / 6600 Steps) (loss=0.11184): 100%|██████████| 28/28 [00:18<00:00,  1.55it/s]\n",
      "Training (4171 / 6600 Steps) (loss=0.17760): 100%|██████████| 28/28 [00:18<00:00,  1.49it/s]\n",
      "Validate (4172 / 10 Steps): 100%|██████████| 12/12 [00:04<00:00,  2.46it/s]0:13,  1.46it/s]\n",
      "Training (4180 / 6600 Steps) (loss=0.37712):  32%|███▏      | 9/28 [00:11<00:41,  2.18s/it]"
     ]
    },
    {
     "name": "stdout",
     "output_type": "stream",
     "text": [
      "Model Was Not Saved ! Current Best Avg. Dice: 0.9315228462219238 Current Avg. Dice: 0.929441511631012\n"
     ]
    },
    {
     "name": "stderr",
     "output_type": "stream",
     "text": [
      "Training (4199 / 6600 Steps) (loss=0.12143): 100%|██████████| 28/28 [00:22<00:00,  1.23it/s]\n",
      "Training (4227 / 6600 Steps) (loss=0.20823): 100%|██████████| 28/28 [00:18<00:00,  1.54it/s]\n",
      "Training (4255 / 6600 Steps) (loss=0.17296): 100%|██████████| 28/28 [00:17<00:00,  1.56it/s]\n",
      "Training (4283 / 6600 Steps) (loss=0.12269): 100%|██████████| 28/28 [00:18<00:00,  1.53it/s]\n",
      "Validate (4284 / 10 Steps): 100%|██████████| 12/12 [00:04<00:00,  2.46it/s]0:15,  1.41it/s]\n",
      "Training (4290 / 6600 Steps) (loss=0.27940):  25%|██▌       | 7/28 [00:10<00:47,  2.26s/it]"
     ]
    },
    {
     "name": "stdout",
     "output_type": "stream",
     "text": [
      "Model Was Not Saved ! Current Best Avg. Dice: 0.9315228462219238 Current Avg. Dice: 0.9287341237068176\n"
     ]
    },
    {
     "name": "stderr",
     "output_type": "stream",
     "text": [
      "Training (4311 / 6600 Steps) (loss=0.20843): 100%|██████████| 28/28 [00:22<00:00,  1.24it/s]\n",
      "Training (4339 / 6600 Steps) (loss=0.44789): 100%|██████████| 28/28 [00:18<00:00,  1.55it/s]\n",
      "Training (4367 / 6600 Steps) (loss=0.13718): 100%|██████████| 28/28 [00:18<00:00,  1.53it/s]\n",
      "Training (4395 / 6600 Steps) (loss=0.33463): 100%|██████████| 28/28 [00:18<00:00,  1.54it/s]\n",
      "Validate (4396 / 10 Steps): 100%|██████████| 12/12 [00:04<00:00,  2.46it/s]0:17,  1.41it/s]\n",
      "Training (4400 / 6600 Steps) (loss=0.20897):  18%|█▊        | 5/28 [00:08<00:58,  2.53s/it]"
     ]
    },
    {
     "name": "stdout",
     "output_type": "stream",
     "text": [
      "Model Was Saved ! Current Best Avg. Dice: 0.9317510724067688 Current Avg. Dice: 0.9317510724067688\n"
     ]
    },
    {
     "name": "stderr",
     "output_type": "stream",
     "text": [
      "Training (4423 / 6600 Steps) (loss=0.26671): 100%|██████████| 28/28 [00:22<00:00,  1.24it/s]\n",
      "Training (4451 / 6600 Steps) (loss=0.13768): 100%|██████████| 28/28 [00:18<00:00,  1.53it/s]\n",
      "Training (4479 / 6600 Steps) (loss=0.15579): 100%|██████████| 28/28 [00:17<00:00,  1.56it/s]\n",
      "Training (4507 / 6600 Steps) (loss=0.16304): 100%|██████████| 28/28 [00:17<00:00,  1.57it/s]\n",
      "Validate (4508 / 10 Steps): 100%|██████████| 12/12 [00:04<00:00,  2.46it/s]0:21,  1.20it/s]\n",
      "Training (4510 / 6600 Steps) (loss=0.24504):  11%|█         | 3/28 [00:07<01:13,  2.94s/it]"
     ]
    },
    {
     "name": "stdout",
     "output_type": "stream",
     "text": [
      "Model Was Not Saved ! Current Best Avg. Dice: 0.9317510724067688 Current Avg. Dice: 0.9275620579719543\n"
     ]
    },
    {
     "name": "stderr",
     "output_type": "stream",
     "text": [
      "Training (4535 / 6600 Steps) (loss=0.26406): 100%|██████████| 28/28 [00:22<00:00,  1.24it/s]\n",
      "Training (4563 / 6600 Steps) (loss=0.43661): 100%|██████████| 28/28 [00:17<00:00,  1.56it/s]\n",
      "Training (4591 / 6600 Steps) (loss=0.42864): 100%|██████████| 28/28 [00:18<00:00,  1.54it/s]\n",
      "Training (4619 / 6600 Steps) (loss=0.16908): 100%|██████████| 28/28 [00:18<00:00,  1.52it/s]\n",
      "Validate (4620 / 10 Steps): 100%|██████████| 12/12 [00:04<00:00,  2.47it/s], ?it/s]\n",
      "Training (4620 / 6600 Steps) (loss=0.27063):   4%|▎         | 1/28 [00:06<02:57,  6.56s/it]"
     ]
    },
    {
     "name": "stdout",
     "output_type": "stream",
     "text": [
      "Model Was Saved ! Current Best Avg. Dice: 0.9334226250648499 Current Avg. Dice: 0.9334226250648499\n"
     ]
    },
    {
     "name": "stderr",
     "output_type": "stream",
     "text": [
      "Training (4647 / 6600 Steps) (loss=0.41568): 100%|██████████| 28/28 [00:22<00:00,  1.23it/s]\n",
      "Training (4675 / 6600 Steps) (loss=0.21773): 100%|██████████| 28/28 [00:18<00:00,  1.49it/s]\n",
      "Training (4703 / 6600 Steps) (loss=0.30456): 100%|██████████| 28/28 [00:18<00:00,  1.53it/s]\n",
      "Validate (4704 / 10 Steps): 100%|██████████| 12/12 [00:04<00:00,  2.44it/s]00:01,  1.31it/s]\n",
      "Training (4730 / 6600 Steps) (loss=0.32006):  96%|█████████▋| 27/28 [00:23<00:02,  2.19s/it]"
     ]
    },
    {
     "name": "stdout",
     "output_type": "stream",
     "text": [
      "Model Was Not Saved ! Current Best Avg. Dice: 0.9334226250648499 Current Avg. Dice: 0.9306703209877014\n"
     ]
    },
    {
     "name": "stderr",
     "output_type": "stream",
     "text": [
      "Training (4731 / 6600 Steps) (loss=0.40427): 100%|██████████| 28/28 [00:23<00:00,  1.19it/s]\n",
      "Training (4759 / 6600 Steps) (loss=0.16460): 100%|██████████| 28/28 [00:18<00:00,  1.54it/s]\n",
      "Training (4787 / 6600 Steps) (loss=0.18901): 100%|██████████| 28/28 [00:17<00:00,  1.56it/s]\n",
      "Training (4815 / 6600 Steps) (loss=0.17742): 100%|██████████| 28/28 [00:17<00:00,  1.56it/s]\n",
      "Validate (4816 / 10 Steps): 100%|██████████| 12/12 [00:04<00:00,  2.44it/s]00:02,  1.69it/s]\n",
      "Training (4840 / 6600 Steps) (loss=0.25910):  89%|████████▉ | 25/28 [00:21<00:06,  2.08s/it]"
     ]
    },
    {
     "name": "stdout",
     "output_type": "stream",
     "text": [
      "Model Was Not Saved ! Current Best Avg. Dice: 0.9334226250648499 Current Avg. Dice: 0.9314103722572327\n"
     ]
    },
    {
     "name": "stderr",
     "output_type": "stream",
     "text": [
      "Training (4843 / 6600 Steps) (loss=0.25759): 100%|██████████| 28/28 [00:23<00:00,  1.21it/s]\n",
      "Training (4871 / 6600 Steps) (loss=0.17175): 100%|██████████| 28/28 [00:18<00:00,  1.54it/s]\n",
      "Training (4899 / 6600 Steps) (loss=0.19118): 100%|██████████| 28/28 [00:18<00:00,  1.53it/s]\n",
      "Training (4927 / 6600 Steps) (loss=0.22906): 100%|██████████| 28/28 [00:18<00:00,  1.52it/s]\n",
      "Validate (4928 / 10 Steps): 100%|██████████| 12/12 [00:04<00:00,  2.44it/s]00:03,  1.60it/s]\n",
      "Training (4950 / 6600 Steps) (loss=0.16532):  82%|████████▏ | 23/28 [00:20<00:10,  2.15s/it]"
     ]
    },
    {
     "name": "stdout",
     "output_type": "stream",
     "text": [
      "Model Was Not Saved ! Current Best Avg. Dice: 0.9334226250648499 Current Avg. Dice: 0.9311039447784424\n"
     ]
    },
    {
     "name": "stderr",
     "output_type": "stream",
     "text": [
      "Training (4955 / 6600 Steps) (loss=0.35785): 100%|██████████| 28/28 [00:23<00:00,  1.21it/s]\n",
      "Training (4983 / 6600 Steps) (loss=0.81102): 100%|██████████| 28/28 [00:18<00:00,  1.54it/s]\n",
      "Training (5011 / 6600 Steps) (loss=0.12058): 100%|██████████| 28/28 [00:18<00:00,  1.53it/s]\n",
      "Training (5039 / 6600 Steps) (loss=0.21595): 100%|██████████| 28/28 [00:18<00:00,  1.51it/s]\n",
      "Validate (5040 / 10 Steps): 100%|██████████| 12/12 [00:04<00:00,  2.43it/s]00:04,  1.62it/s]\n",
      "Training (5060 / 6600 Steps) (loss=0.24513):  75%|███████▌  | 21/28 [00:19<00:14,  2.09s/it]"
     ]
    },
    {
     "name": "stdout",
     "output_type": "stream",
     "text": [
      "Model Was Not Saved ! Current Best Avg. Dice: 0.9334226250648499 Current Avg. Dice: 0.9293001294136047\n"
     ]
    },
    {
     "name": "stderr",
     "output_type": "stream",
     "text": [
      "Training (5067 / 6600 Steps) (loss=0.21662): 100%|██████████| 28/28 [00:23<00:00,  1.21it/s]\n",
      "Training (5095 / 6600 Steps) (loss=0.29352): 100%|██████████| 28/28 [00:19<00:00,  1.44it/s]\n",
      "Training (5123 / 6600 Steps) (loss=0.15064): 100%|██████████| 28/28 [00:18<00:00,  1.54it/s]\n",
      "Training (5151 / 6600 Steps) (loss=0.14426): 100%|██████████| 28/28 [00:18<00:00,  1.52it/s]\n",
      "Validate (5152 / 10 Steps): 100%|██████████| 12/12 [00:04<00:00,  2.44it/s]00:07,  1.28it/s]\n",
      "Training (5170 / 6600 Steps) (loss=0.23647):  68%|██████▊   | 19/28 [00:18<00:19,  2.20s/it]"
     ]
    },
    {
     "name": "stdout",
     "output_type": "stream",
     "text": [
      "Model Was Not Saved ! Current Best Avg. Dice: 0.9334226250648499 Current Avg. Dice: 0.9310362339019775\n"
     ]
    },
    {
     "name": "stderr",
     "output_type": "stream",
     "text": [
      "Training (5179 / 6600 Steps) (loss=0.29179): 100%|██████████| 28/28 [00:23<00:00,  1.19it/s]\n",
      "Training (5207 / 6600 Steps) (loss=0.27769): 100%|██████████| 28/28 [00:18<00:00,  1.53it/s]\n",
      "Training (5235 / 6600 Steps) (loss=0.23492): 100%|██████████| 28/28 [00:18<00:00,  1.53it/s]\n",
      "Training (5263 / 6600 Steps) (loss=0.22023): 100%|██████████| 28/28 [00:18<00:00,  1.49it/s]\n",
      "Validate (5264 / 10 Steps): 100%|██████████| 12/12 [00:04<00:00,  2.47it/s]00:07,  1.68it/s]\n",
      "Training (5280 / 6600 Steps) (loss=0.19878):  61%|██████    | 17/28 [00:16<00:23,  2.15s/it]"
     ]
    },
    {
     "name": "stdout",
     "output_type": "stream",
     "text": [
      "Model Was Saved ! Current Best Avg. Dice: 0.9346876740455627 Current Avg. Dice: 0.9346876740455627\n"
     ]
    },
    {
     "name": "stderr",
     "output_type": "stream",
     "text": [
      "Training (5291 / 6600 Steps) (loss=0.41230): 100%|██████████| 28/28 [00:22<00:00,  1.22it/s]\n",
      "Training (5319 / 6600 Steps) (loss=0.26345): 100%|██████████| 28/28 [00:18<00:00,  1.55it/s]\n",
      "Training (5347 / 6600 Steps) (loss=0.15729): 100%|██████████| 28/28 [00:18<00:00,  1.51it/s]\n",
      "Training (5375 / 6600 Steps) (loss=0.14700): 100%|██████████| 28/28 [00:17<00:00,  1.56it/s]\n",
      "Validate (5376 / 10 Steps): 100%|██████████| 12/12 [00:04<00:00,  2.46it/s]00:09,  1.42it/s]\n",
      "Training (5390 / 6600 Steps) (loss=0.27390):  54%|█████▎    | 15/28 [00:15<00:28,  2.16s/it]"
     ]
    },
    {
     "name": "stdout",
     "output_type": "stream",
     "text": [
      "Model Was Not Saved ! Current Best Avg. Dice: 0.9346876740455627 Current Avg. Dice: 0.9319970607757568\n"
     ]
    },
    {
     "name": "stderr",
     "output_type": "stream",
     "text": [
      "Training (5403 / 6600 Steps) (loss=0.18660): 100%|██████████| 28/28 [00:22<00:00,  1.24it/s]\n",
      "Training (5431 / 6600 Steps) (loss=0.18246): 100%|██████████| 28/28 [00:18<00:00,  1.51it/s]\n",
      "Training (5459 / 6600 Steps) (loss=0.14192): 100%|██████████| 28/28 [00:18<00:00,  1.54it/s]\n",
      "Training (5487 / 6600 Steps) (loss=0.13720): 100%|██████████| 28/28 [00:18<00:00,  1.52it/s]\n",
      "Validate (5488 / 10 Steps): 100%|██████████| 12/12 [00:04<00:00,  2.46it/s]00:10,  1.56it/s]\n",
      "Training (5500 / 6600 Steps) (loss=0.35778):  46%|████▋     | 13/28 [00:13<00:31,  2.11s/it]"
     ]
    },
    {
     "name": "stdout",
     "output_type": "stream",
     "text": [
      "Model Was Not Saved ! Current Best Avg. Dice: 0.9346876740455627 Current Avg. Dice: 0.9312751293182373\n"
     ]
    },
    {
     "name": "stderr",
     "output_type": "stream",
     "text": [
      "Training (5515 / 6600 Steps) (loss=0.31551): 100%|██████████| 28/28 [00:22<00:00,  1.26it/s]\n",
      "Training (5543 / 6600 Steps) (loss=0.14174): 100%|██████████| 28/28 [00:18<00:00,  1.54it/s]\n",
      "Training (5571 / 6600 Steps) (loss=0.54053): 100%|██████████| 28/28 [00:18<00:00,  1.47it/s]\n",
      "Training (5599 / 6600 Steps) (loss=0.17711): 100%|██████████| 28/28 [00:17<00:00,  1.56it/s]\n",
      "Validate (5600 / 10 Steps): 100%|██████████| 12/12 [00:04<00:00,  2.44it/s]00:12,  1.41it/s]\n",
      "Training (5610 / 6600 Steps) (loss=0.19479):  39%|███▉      | 11/28 [00:12<00:37,  2.22s/it]"
     ]
    },
    {
     "name": "stdout",
     "output_type": "stream",
     "text": [
      "Model Was Not Saved ! Current Best Avg. Dice: 0.9346876740455627 Current Avg. Dice: 0.9311184883117676\n"
     ]
    },
    {
     "name": "stderr",
     "output_type": "stream",
     "text": [
      "Training (5627 / 6600 Steps) (loss=0.31221): 100%|██████████| 28/28 [00:22<00:00,  1.24it/s]\n",
      "Training (5655 / 6600 Steps) (loss=0.27039): 100%|██████████| 28/28 [00:17<00:00,  1.60it/s]\n",
      "Training (5683 / 6600 Steps) (loss=0.14700): 100%|██████████| 28/28 [00:17<00:00,  1.58it/s]\n",
      "Training (5711 / 6600 Steps) (loss=0.16349): 100%|██████████| 28/28 [00:17<00:00,  1.59it/s]\n",
      "Validate (5712 / 10 Steps): 100%|██████████| 12/12 [00:04<00:00,  2.43it/s]0:14,  1.42it/s]\n",
      "Training (5720 / 6600 Steps) (loss=0.22688):  32%|███▏      | 9/28 [00:11<00:42,  2.23s/it]"
     ]
    },
    {
     "name": "stdout",
     "output_type": "stream",
     "text": [
      "Model Was Not Saved ! Current Best Avg. Dice: 0.9346876740455627 Current Avg. Dice: 0.9318220019340515\n"
     ]
    },
    {
     "name": "stderr",
     "output_type": "stream",
     "text": [
      "Training (5739 / 6600 Steps) (loss=0.28453): 100%|██████████| 28/28 [00:22<00:00,  1.24it/s]\n",
      "Training (5767 / 6600 Steps) (loss=0.21553): 100%|██████████| 28/28 [00:17<00:00,  1.56it/s]\n",
      "Training (5795 / 6600 Steps) (loss=0.14772): 100%|██████████| 28/28 [00:17<00:00,  1.56it/s]\n",
      "Training (5823 / 6600 Steps) (loss=0.14678): 100%|██████████| 28/28 [00:17<00:00,  1.56it/s]\n",
      "Validate (5824 / 10 Steps): 100%|██████████| 12/12 [00:04<00:00,  2.45it/s]0:13,  1.58it/s]\n",
      "Training (5830 / 6600 Steps) (loss=0.14373):  25%|██▌       | 7/28 [00:09<00:46,  2.22s/it]"
     ]
    },
    {
     "name": "stdout",
     "output_type": "stream",
     "text": [
      "Model Was Not Saved ! Current Best Avg. Dice: 0.9346876740455627 Current Avg. Dice: 0.9325375556945801\n"
     ]
    },
    {
     "name": "stderr",
     "output_type": "stream",
     "text": [
      "Training (5851 / 6600 Steps) (loss=0.14436): 100%|██████████| 28/28 [00:23<00:00,  1.21it/s]\n",
      "Training (5879 / 6600 Steps) (loss=0.30087): 100%|██████████| 28/28 [00:18<00:00,  1.54it/s]\n",
      "Training (5907 / 6600 Steps) (loss=0.13818): 100%|██████████| 28/28 [00:18<00:00,  1.55it/s]\n",
      "Training (5935 / 6600 Steps) (loss=0.28516): 100%|██████████| 28/28 [00:18<00:00,  1.55it/s]\n",
      "Validate (5936 / 10 Steps): 100%|██████████| 12/12 [00:04<00:00,  2.45it/s]0:18,  1.32it/s]\n",
      "Training (5940 / 6600 Steps) (loss=0.36608):  18%|█▊        | 5/28 [00:08<00:58,  2.53s/it]"
     ]
    },
    {
     "name": "stdout",
     "output_type": "stream",
     "text": [
      "Model Was Not Saved ! Current Best Avg. Dice: 0.9346876740455627 Current Avg. Dice: 0.9310219883918762\n"
     ]
    },
    {
     "name": "stderr",
     "output_type": "stream",
     "text": [
      "Training (5963 / 6600 Steps) (loss=0.12052): 100%|██████████| 28/28 [00:22<00:00,  1.25it/s]\n",
      "Training (5991 / 6600 Steps) (loss=0.39477): 100%|██████████| 28/28 [00:17<00:00,  1.57it/s]\n",
      "Training (6019 / 6600 Steps) (loss=0.25001): 100%|██████████| 28/28 [00:18<00:00,  1.52it/s]\n",
      "Training (6047 / 6600 Steps) (loss=0.19524): 100%|██████████| 28/28 [00:17<00:00,  1.57it/s]\n",
      "Validate (6048 / 10 Steps): 100%|██████████| 12/12 [00:04<00:00,  2.44it/s]0:26,  1.02s/it]\n",
      "Training (6050 / 6600 Steps) (loss=0.23223):  11%|█         | 3/28 [00:07<01:16,  3.07s/it]"
     ]
    },
    {
     "name": "stdout",
     "output_type": "stream",
     "text": [
      "Model Was Not Saved ! Current Best Avg. Dice: 0.9346876740455627 Current Avg. Dice: 0.9334527850151062\n"
     ]
    },
    {
     "name": "stderr",
     "output_type": "stream",
     "text": [
      "Training (6075 / 6600 Steps) (loss=0.35350): 100%|██████████| 28/28 [00:22<00:00,  1.25it/s]\n",
      "Training (6103 / 6600 Steps) (loss=0.14530): 100%|██████████| 28/28 [00:17<00:00,  1.56it/s]\n",
      "Training (6131 / 6600 Steps) (loss=0.19121): 100%|██████████| 28/28 [00:18<00:00,  1.56it/s]\n",
      "Training (6159 / 6600 Steps) (loss=0.14729): 100%|██████████| 28/28 [00:17<00:00,  1.59it/s]\n",
      "Validate (6160 / 10 Steps): 100%|██████████| 12/12 [00:04<00:00,  2.42it/s], ?it/s]\n",
      "Training (6160 / 6600 Steps) (loss=0.17268):   4%|▎         | 1/28 [00:06<02:42,  6.03s/it]"
     ]
    },
    {
     "name": "stdout",
     "output_type": "stream",
     "text": [
      "Model Was Not Saved ! Current Best Avg. Dice: 0.9346876740455627 Current Avg. Dice: 0.9339228272438049\n"
     ]
    },
    {
     "name": "stderr",
     "output_type": "stream",
     "text": [
      "Training (6187 / 6600 Steps) (loss=0.37150): 100%|██████████| 28/28 [00:22<00:00,  1.27it/s]\n",
      "Training (6215 / 6600 Steps) (loss=0.10092): 100%|██████████| 28/28 [00:17<00:00,  1.57it/s]\n",
      "Training (6243 / 6600 Steps) (loss=0.28888): 100%|██████████| 28/28 [00:18<00:00,  1.52it/s]\n",
      "Validate (6244 / 10 Steps): 100%|██████████| 12/12 [00:04<00:00,  2.42it/s]00:01,  1.48it/s]\n",
      "Training (6270 / 6600 Steps) (loss=0.14067):  96%|█████████▋| 27/28 [00:22<00:02,  2.26s/it]"
     ]
    },
    {
     "name": "stdout",
     "output_type": "stream",
     "text": [
      "Model Was Saved ! Current Best Avg. Dice: 0.9347929954528809 Current Avg. Dice: 0.9347929954528809\n"
     ]
    },
    {
     "name": "stderr",
     "output_type": "stream",
     "text": [
      "Training (6271 / 6600 Steps) (loss=0.20694): 100%|██████████| 28/28 [00:23<00:00,  1.20it/s]\n",
      "Training (6299 / 6600 Steps) (loss=0.12472): 100%|██████████| 28/28 [00:18<00:00,  1.54it/s]\n",
      "Training (6327 / 6600 Steps) (loss=0.21282): 100%|██████████| 28/28 [00:17<00:00,  1.56it/s]\n",
      "Training (6355 / 6600 Steps) (loss=0.20496): 100%|██████████| 28/28 [00:18<00:00,  1.53it/s]\n",
      "Validate (6356 / 10 Steps): 100%|██████████| 12/12 [00:04<00:00,  2.44it/s]00:02,  1.47it/s]\n",
      "Training (6380 / 6600 Steps) (loss=0.36998):  89%|████████▉ | 25/28 [00:21<00:06,  2.13s/it]"
     ]
    },
    {
     "name": "stdout",
     "output_type": "stream",
     "text": [
      "Model Was Not Saved ! Current Best Avg. Dice: 0.9347929954528809 Current Avg. Dice: 0.9333004951477051\n"
     ]
    },
    {
     "name": "stderr",
     "output_type": "stream",
     "text": [
      "Training (6383 / 6600 Steps) (loss=0.22910): 100%|██████████| 28/28 [00:23<00:00,  1.21it/s]\n",
      "Training (6411 / 6600 Steps) (loss=0.16941): 100%|██████████| 28/28 [00:18<00:00,  1.55it/s]\n",
      "Training (6439 / 6600 Steps) (loss=0.08940): 100%|██████████| 28/28 [00:18<00:00,  1.55it/s]\n",
      "Training (6467 / 6600 Steps) (loss=0.29085): 100%|██████████| 28/28 [00:17<00:00,  1.59it/s]\n",
      "Validate (6468 / 10 Steps): 100%|██████████| 12/12 [00:04<00:00,  2.42it/s]00:04,  1.37it/s]\n",
      "Training (6490 / 6600 Steps) (loss=0.58141):  82%|████████▏ | 23/28 [00:20<00:10,  2.18s/it]"
     ]
    },
    {
     "name": "stdout",
     "output_type": "stream",
     "text": [
      "Model Was Not Saved ! Current Best Avg. Dice: 0.9347929954528809 Current Avg. Dice: 0.9268552660942078\n"
     ]
    },
    {
     "name": "stderr",
     "output_type": "stream",
     "text": [
      "Training (6495 / 6600 Steps) (loss=0.46639): 100%|██████████| 28/28 [00:22<00:00,  1.22it/s]\n",
      "Training (6523 / 6600 Steps) (loss=0.10466): 100%|██████████| 28/28 [00:18<00:00,  1.55it/s]\n",
      "Training (6551 / 6600 Steps) (loss=0.36101): 100%|██████████| 28/28 [00:18<00:00,  1.53it/s]\n",
      "Training (6579 / 6600 Steps) (loss=0.24134): 100%|██████████| 28/28 [00:18<00:00,  1.55it/s]\n",
      "Validate (6580 / 10 Steps): 100%|██████████| 12/12 [00:04<00:00,  2.44it/s]00:04,  1.64it/s]\n",
      "Training (6600 / 6600 Steps) (loss=0.22924):  75%|███████▌  | 21/28 [00:19<00:15,  2.17s/it]"
     ]
    },
    {
     "name": "stdout",
     "output_type": "stream",
     "text": [
      "Model Was Saved ! Current Best Avg. Dice: 0.9363057017326355 Current Avg. Dice: 0.9363057017326355\n"
     ]
    },
    {
     "name": "stderr",
     "output_type": "stream",
     "text": [
      "Training (6607 / 6600 Steps) (loss=0.16439): 100%|██████████| 28/28 [00:23<00:00,  1.20it/s]"
     ]
    },
    {
     "name": "stdout",
     "output_type": "stream",
     "text": [
      "Process finished --- 4610.354435682297 seconds ---\n"
     ]
    },
    {
     "name": "stderr",
     "output_type": "stream",
     "text": [
      "\n"
     ]
    },
    {
     "data": {
      "text/plain": [
       "<All keys matched successfully>"
      ]
     },
     "execution_count": 16,
     "metadata": {},
     "output_type": "execute_result"
    }
   ],
   "source": [
    "start_time = time.time()\n",
    "\n",
    "max_iterations = 6600\n",
    "eval_num = 110\n",
    "post_label = AsDiscrete(to_onehot=2)\n",
    "post_pred = AsDiscrete(argmax=True, to_onehot=2)\n",
    "dice_metric = DiceMetric(include_background=True, reduction=\"mean\", get_not_nans=False)\n",
    "global_step = 0\n",
    "dice_val_best = 0.0\n",
    "global_step_best = 0\n",
    "epoch_loss_values = []\n",
    "metric_values = []\n",
    "while global_step < max_iterations:\n",
    "    global_step, dice_val_best, global_step_best = train(\n",
    "        global_step, train_loader, dice_val_best, global_step_best\n",
    "    )\n",
    "\n",
    "print(\"Process finished --- %s seconds ---\" % (time.time() - start_time))\n",
    "\n",
    "model.load_state_dict(torch.load(os.path.join(root_dir, \"best_metric_model.pth\")))"
   ]
  },
  {
   "cell_type": "code",
   "execution_count": 17,
   "metadata": {},
   "outputs": [
    {
     "name": "stdout",
     "output_type": "stream",
     "text": [
      "train completed, best_metric: 0.9363 at iteration: 6600\n"
     ]
    }
   ],
   "source": [
    "print(\n",
    "    f\"train completed, best_metric: {dice_val_best:.4f} \"\n",
    "    f\"at iteration: {global_step_best}\"\n",
    ")"
   ]
  },
  {
   "cell_type": "code",
   "execution_count": 18,
   "metadata": {},
   "outputs": [
    {
     "data": {
      "image/png": "[encoded data removed]",
      "text/plain": [
       "<Figure size 1800x600 with 2 Axes>"
      ]
     },
     "metadata": {},
     "output_type": "display_data"
    }
   ],
   "source": [
    "plt.figure(\"train\", (18, 6))\n",
    "plt.subplot(1, 2, 1)\n",
    "plt.title(\"Iteration Average Loss\")\n",
    "x = [eval_num * (i + 1) for i in range(len(epoch_loss_values))]\n",
    "y = epoch_loss_values\n",
    "plt.xlabel(\"Iteration\")\n",
    "plt.plot(x, y)\n",
    "plt.subplot(1, 2, 2)\n",
    "plt.title(\"Val Mean Dice\")\n",
    "x = [eval_num * (i + 1) for i in range(len(metric_values))]\n",
    "y = metric_values\n",
    "plt.xlabel(\"Iteration\")\n",
    "plt.plot(x, y)\n",
    "plt.show()"
   ]
  },
  {
   "cell_type": "code",
   "execution_count": 19,
   "metadata": {},
   "outputs": [],
   "source": [
    "import pandas as pd \n",
    "train_process= {\n",
    "    'epoch_loss': epoch_loss_values,\n",
    "    'metric_val': metric_values\n",
    "}\n",
    "\n",
    "train_df = pd.DataFrame(train_process)\n",
    "train_df.to_excel(\"crop_all_12.xlsx\")"
   ]
  },
  {
   "cell_type": "code",
   "execution_count": 20,
   "metadata": {},
   "outputs": [],
   "source": [
    "test_org_transforms = Compose(\n",
    "    [\n",
    "        LoadImaged(keys=[\"image\", \"label\"]),\n",
    "        EnsureChannelFirstd(keys=[\"image\", \"label\"]),\n",
    "        ScaleIntensityRanged(\n",
    "            keys=[\"image\"], a_min=-250, a_max=600,\n",
    "            b_min=0.0, b_max=1.0, clip=True,\n",
    "        ),\n",
    "        # Spacingd(\n",
    "        #     keys=[\"image\", \"label\"],\n",
    "        #     pixdim=(1.0, 1.0, 0.5),\n",
    "        #     mode=(\"bilinear\", \"nearest\"),\n",
    "        # ),\n",
    "        CropForegroundd(keys=[\"image\",\"label\"], source_key=\"image\"),\n",
    "    ]\n",
    ")\n",
    "\n",
    "test_org_ds = Dataset(data=test_files, transform=test_org_transforms)\n",
    "\n",
    "test_org_loader = DataLoader(test_org_ds, batch_size=1, num_workers=20)\n",
    "\n",
    "post_transforms = Compose([\n",
    "    Invertd(\n",
    "        keys=\"pred\",\n",
    "        transform=test_org_transforms,\n",
    "        orig_keys=\"image\",\n",
    "        meta_keys=\"pred_meta_dict\",\n",
    "        orig_meta_keys=\"image_meta_dict\",\n",
    "        meta_key_postfix=\"meta_dict\",\n",
    "        nearest_interp=False,\n",
    "        to_tensor=True,\n",
    "    ),\n",
    "    AsDiscreted(keys=\"pred\", argmax=True, threshold=0.5),\n",
    "    SaveImaged(keys=\"pred\", meta_keys=\"pred_meta_dict\", output_dir=\"./cropped_mask_tight\", \n",
    "               output_postfix=\"_crop_mask_12\", resample=False),\n",
    "])"
   ]
  },
  {
   "cell_type": "code",
   "execution_count": 21,
   "metadata": {},
   "outputs": [
    {
     "name": "stdout",
     "output_type": "stream",
     "text": [
      "2023-01-11 06:17:03,550 INFO image_writer.py:193 - writing: cropped_mask_tight\\MMH006_crop_tight\\MMH006_crop_tight__crop_mask_12.nii.gz\n",
      "2023-01-11 06:17:04,961 INFO image_writer.py:193 - writing: cropped_mask_tight\\MMH007_crop_tight\\MMH007_crop_tight__crop_mask_12.nii.gz\n",
      "2023-01-11 06:17:06,506 INFO image_writer.py:193 - writing: cropped_mask_tight\\MMH008_crop_tight\\MMH008_crop_tight__crop_mask_12.nii.gz\n",
      "2023-01-11 06:17:08,227 INFO image_writer.py:193 - writing: cropped_mask_tight\\MMH009_crop_tight\\MMH009_crop_tight__crop_mask_12.nii.gz\n",
      "2023-01-11 06:17:09,730 INFO image_writer.py:193 - writing: cropped_mask_tight\\MMH010_crop_tight\\MMH010_crop_tight__crop_mask_12.nii.gz\n",
      "2023-01-11 06:17:11,559 INFO image_writer.py:193 - writing: cropped_mask_tight\\MMH011_crop_tight\\MMH011_crop_tight__crop_mask_12.nii.gz\n",
      "2023-01-11 06:17:12,889 INFO image_writer.py:193 - writing: cropped_mask_tight\\MMH012_crop_tight\\MMH012_crop_tight__crop_mask_12.nii.gz\n",
      "2023-01-11 06:17:13,885 INFO image_writer.py:193 - writing: cropped_mask_tight\\MMH013_crop_tight\\MMH013_crop_tight__crop_mask_12.nii.gz\n",
      "2023-01-11 06:17:15,020 INFO image_writer.py:193 - writing: cropped_mask_tight\\MMH014_crop_tight\\MMH014_crop_tight__crop_mask_12.nii.gz\n",
      "2023-01-11 06:17:16,369 INFO image_writer.py:193 - writing: cropped_mask_tight\\MMH016_crop_tight\\MMH016_crop_tight__crop_mask_12.nii.gz\n",
      "2023-01-11 06:17:17,878 INFO image_writer.py:193 - writing: cropped_mask_tight\\MMH017_crop_tight\\MMH017_crop_tight__crop_mask_12.nii.gz\n",
      "2023-01-11 06:17:19,089 INFO image_writer.py:193 - writing: cropped_mask_tight\\MMH020_crop_tight\\MMH020_crop_tight__crop_mask_12.nii.gz\n",
      "2023-01-11 06:17:21,145 INFO image_writer.py:193 - writing: cropped_mask_tight\\MMH021_crop_tight\\MMH021_crop_tight__crop_mask_12.nii.gz\n",
      "2023-01-11 06:17:22,684 INFO image_writer.py:193 - writing: cropped_mask_tight\\MMH022_crop_tight\\MMH022_crop_tight__crop_mask_12.nii.gz\n",
      "2023-01-11 06:17:23,860 INFO image_writer.py:193 - writing: cropped_mask_tight\\MMH024_crop_tight\\MMH024_crop_tight__crop_mask_12.nii.gz\n",
      "2023-01-11 06:17:25,076 INFO image_writer.py:193 - writing: cropped_mask_tight\\MMH025_crop_tight\\MMH025_crop_tight__crop_mask_12.nii.gz\n"
     ]
    }
   ],
   "source": [
    "model.load_state_dict(torch.load(os.path.join(root_dir, \"best_metric_model.pth\")))\n",
    "model.eval()\n",
    "\n",
    "with torch.no_grad():\n",
    "    for test_data in test_org_loader:\n",
    "        test_inputs = test_data[\"image\"].to(device)\n",
    "        roi_size = (128, 128, 128)\n",
    "        sw_batch_size = 16\n",
    "        with torch.cuda.amp.autocast():\n",
    "            test_data[\"pred\"] = sliding_window_inference(\n",
    "                test_inputs, roi_size, sw_batch_size, model, overlap=0.25)\n",
    "\n",
    "        test_data = [post_transforms(i) for i in decollate_batch(test_data)]"
   ]
  },
  {
   "cell_type": "code",
   "execution_count": null,
   "metadata": {},
   "outputs": [
    {
     "data": {
      "text/plain": [
       "device(type='cuda')"
      ]
     },
     "execution_count": 19,
     "metadata": {},
     "output_type": "execute_result"
    }
   ],
   "source": [
    "device "
   ]
  }
 ],
 "metadata": {
  "kernelspec": {
   "display_name": "vit",
   "language": "python",
   "name": "python3"
  },
  "language_info": {
   "codemirror_mode": {
    "name": "ipython",
    "version": 3
   },
   "file_extension": ".py",
   "mimetype": "text/x-python",
   "name": "python",
   "nbconvert_exporter": "python",
   "pygments_lexer": "ipython3",
   "version": "3.9.15"
  },
  "vscode": {
   "interpreter": {
    "hash": "1e0508697b36bdc0dd678ac23a5a5e4808059af952e933a27f32df7cc66172a9"
   }
  }
 },
 "nbformat": 4,
 "nbformat_minor": 2
}
